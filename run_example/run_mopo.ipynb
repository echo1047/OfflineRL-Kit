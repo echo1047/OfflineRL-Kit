{
 "cells": [
  {
   "cell_type": "code",
   "execution_count": null,
   "metadata": {},
   "outputs": [],
   "source": [
    "import argparse\n",
    "import os\n",
    "import sys\n",
    "import random\n",
    "\n",
    "import gym\n",
    "import d4rl\n",
    "\n",
    "import numpy as np\n",
    "import torch\n",
    "\n",
    "\n",
    "from offlinerlkit.nets import MLP\n",
    "from offlinerlkit.modules import ActorProb, Critic, TanhDiagGaussian, EnsembleDynamicsModel\n",
    "from offlinerlkit.dynamics import EnsembleDynamics\n",
    "from offlinerlkit.utils.scaler import StandardScaler\n",
    "from offlinerlkit.utils.termination_fns import get_termination_fn\n",
    "from offlinerlkit.utils.load_dataset import qlearning_dataset\n",
    "from offlinerlkit.buffer import ReplayBuffer\n",
    "from offlinerlkit.utils.logger import Logger, make_log_dirs\n",
    "from offlinerlkit.policy_trainer import MBPolicyTrainer\n",
    "from offlinerlkit.policy import MOPOPolicy"
   ]
  },
  {
   "cell_type": "code",
   "execution_count": null,
   "metadata": {},
   "outputs": [],
   "source": [
    "def get_args():\n",
    "    parser = argparse.ArgumentParser()\n",
    "    parser.add_argument(\"--algo-name\", type=str, default=\"mopo\")\n",
    "    parser.add_argument(\"--task\", type=str, default=\"hopper-medium-expert-v2\")\n",
    "    parser.add_argument(\"--seed\", type=int, default=1)\n",
    "    parser.add_argument(\"--actor-lr\", type=float, default=1e-4)\n",
    "    parser.add_argument(\"--critic-lr\", type=float, default=3e-4)\n",
    "    parser.add_argument(\"--hidden-dims\", type=int, nargs='*', default=[256, 256])\n",
    "    parser.add_argument(\"--gamma\", type=float, default=0.99)\n",
    "    parser.add_argument(\"--tau\", type=float, default=0.005)\n",
    "    parser.add_argument(\"--alpha\", type=float, default=0.2)\n",
    "    parser.add_argument(\"--auto-alpha\", default=True)\n",
    "    parser.add_argument(\"--target-entropy\", type=int, default=None)\n",
    "    parser.add_argument(\"--alpha-lr\", type=float, default=1e-4)\n",
    "\n",
    "    parser.add_argument(\"--dynamics-lr\", type=float, default=1e-3)\n",
    "    parser.add_argument(\"--dynamics-hidden-dims\", type=int, nargs='*', default=[200, 200, 200, 200])\n",
    "    parser.add_argument(\"--dynamics-weight-decay\", type=float, nargs='*', default=[2.5e-5, 5e-5, 7.5e-5, 7.5e-5, 1e-4])\n",
    "    parser.add_argument(\"--n-ensemble\", type=int, default=7)\n",
    "    parser.add_argument(\"--n-elites\", type=int, default=5)\n",
    "    parser.add_argument(\"--rollout-freq\", type=int, default=1000)\n",
    "    parser.add_argument(\"--rollout-batch-size\", type=int, default=50000)\n",
    "    parser.add_argument(\"--rollout-length\", type=int, default=1)\n",
    "    parser.add_argument(\"--penalty-coef\", type=float, default=2.5)\n",
    "    parser.add_argument(\"--model-retain-epochs\", type=int, default=5)\n",
    "    parser.add_argument(\"--real-ratio\", type=float, default=0.05)\n",
    "    parser.add_argument(\"--load-dynamics-path\", type=str, default=None)\n",
    "\n",
    "    parser.add_argument(\"--epoch\", type=int, default=3000)\n",
    "    parser.add_argument(\"--step-per-epoch\", type=int, default=1000)\n",
    "    parser.add_argument(\"--eval_episodes\", type=int, default=10)\n",
    "    parser.add_argument(\"--batch-size\", type=int, default=256)\n",
    "    parser.add_argument(\"--device\", type=str, default=\"cuda\" if torch.cuda.is_available() else \"cpu\")\n",
    "\n",
    "    return parser.parse_args()"
   ]
  },
  {
   "cell_type": "code",
   "execution_count": null,
   "metadata": {},
   "outputs": [],
   "source": [
    "def train(args=get_args()):\n",
    "    pass"
   ]
  },
  {
   "cell_type": "code",
   "execution_count": null,
   "metadata": {},
   "outputs": [],
   "source": [
    "if __name__ == \"__main__\":\n",
    "    train()"
   ]
  }
 ],
 "metadata": {
  "kernelspec": {
   "display_name": "Python 3",
   "language": "python",
   "name": "python3"
  },
  "language_info": {
   "name": "python",
   "version": "3.9.16"
  },
  "orig_nbformat": 4
 },
 "nbformat": 4,
 "nbformat_minor": 2
}
